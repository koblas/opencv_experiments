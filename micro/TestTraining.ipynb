{
 "cells": [
  {
   "cell_type": "code",
   "execution_count": 1,
   "metadata": {
    "collapsed": true
   },
   "outputs": [],
   "source": [
    "from io import BytesIO\n",
    "\n",
    "import matplotlib.pyplot as plt\n",
    "import numpy as np\n",
    "from PIL import Image\n",
    "import cv2\n",
    "import IPython.display\n",
    "\n",
    "import operator"
   ]
  },
  {
   "cell_type": "code",
   "execution_count": 2,
   "metadata": {
    "collapsed": true
   },
   "outputs": [],
   "source": [
    "def showimage(cimg):\n",
    "    if len(cimg.shape) == 2:\n",
    "        img = Image.fromarray(cimg)\n",
    "    else:\n",
    "        img = Image.fromarray(cv2.cvtColor(cimg, cv2.COLOR_BGR2RGB))\n",
    "    b = BytesIO()\n",
    "    img.save(b, format='png')\n",
    "\n",
    "    IPython.display.display(IPython.display.Image(data=b.getvalue(), format='png', embed=True))"
   ]
  },
  {
   "cell_type": "code",
   "execution_count": 3,
   "metadata": {
    "collapsed": true
   },
   "outputs": [],
   "source": [
    "MIN_CONTOUR_AREA = 100\n",
    "\n",
    "RESIZED_IMAGE_WIDTH = 20\n",
    "RESIZED_IMAGE_HEIGHT = 30"
   ]
  },
  {
   "cell_type": "code",
   "execution_count": 4,
   "metadata": {
    "collapsed": false
   },
   "outputs": [
    {
     "data": {
      "text/plain": [
       "True"
      ]
     },
     "execution_count": 4,
     "metadata": {},
     "output_type": "execute_result"
    }
   ],
   "source": [
    "# Read training classifications and images\n",
    "\n",
    "npaClassifications = np.loadtxt(\"classifications.txt\", np.float32)\n",
    "npaFlattenedImages = np.loadtxt(\"flattened_images.txt\", np.float32)\n",
    "\n",
    "npaClassifications = npaClassifications.reshape((npaClassifications.size, 1))\n",
    "\n",
    "# Initialize and read the classifications into KNN\n",
    "kNearest = cv2.ml.KNearest_create()\n",
    "kNearest.train(npaFlattenedImages, cv2.ml.ROW_SAMPLE, npaClassifications)"
   ]
  },
  {
   "cell_type": "code",
   "execution_count": 5,
   "metadata": {
    "collapsed": true
   },
   "outputs": [],
   "source": [
    "class ContourWithData():\n",
    "    def __init__(self, contour):\n",
    "        self.npaContour = contour\n",
    "        self.boundingRect = cv2.boundingRect(contour)\n",
    "        self.rectX, self.rectY, self.rectWidth, self.rectHeight = self.boundingRect \n",
    "        self.area = cv2.contourArea(contour)\n",
    "\n",
    "    def isValid(self):  \n",
    "        # this is oversimplified, for a production grade program\n",
    "        # much better validity checking would be necessary\n",
    "        return self.area >= MIN_CONTOUR_AREA"
   ]
  },
  {
   "cell_type": "code",
   "execution_count": 13,
   "metadata": {
    "collapsed": false
   },
   "outputs": [
    {
     "data": {
      "image/png": "[encoded data removed]",
      "text/plain": [
       "<IPython.core.display.Image object>"
      ]
     },
     "metadata": {},
     "output_type": "display_data"
    },
    {
     "name": "stdout",
     "output_type": "stream",
     "text": [
      "GOT:  A\n"
     ]
    },
    {
     "data": {
      "image/png": "[encoded data removed]",
      "text/plain": [
       "<IPython.core.display.Image object>"
      ]
     },
     "metadata": {},
     "output_type": "display_data"
    },
    {
     "name": "stdout",
     "output_type": "stream",
     "text": [
      "GOT:  B\n"
     ]
    },
    {
     "data": {
      "image/png": "[encoded data removed]",
      "text/plain": [
       "<IPython.core.display.Image object>"
      ]
     },
     "metadata": {},
     "output_type": "display_data"
    },
    {
     "name": "stdout",
     "output_type": "stream",
     "text": [
      "GOT:  C\n"
     ]
    },
    {
     "data": {
      "image/png": "[encoded data removed]",
      "text/plain": [
       "<IPython.core.display.Image object>"
      ]
     },
     "metadata": {},
     "output_type": "display_data"
    },
    {
     "name": "stdout",
     "output_type": "stream",
     "text": [
      "GOT:  1\n"
     ]
    },
    {
     "data": {
      "image/png": "[encoded data removed]",
      "text/plain": [
       "<IPython.core.display.Image object>"
      ]
     },
     "metadata": {},
     "output_type": "display_data"
    },
    {
     "name": "stdout",
     "output_type": "stream",
     "text": [
      "GOT:  2\n"
     ]
    },
    {
     "data": {
      "image/png": "[encoded data removed]",
      "text/plain": [
       "<IPython.core.display.Image object>"
      ]
     },
     "metadata": {},
     "output_type": "display_data"
    },
    {
     "name": "stdout",
     "output_type": "stream",
     "text": [
      "GOT:  3\n",
      "\n",
      "ABC123\n",
      "\n"
     ]
    }
   ],
   "source": [
    "imgTestingNumbers = cv2.imread(\"test1.png\")\n",
    "#imgTestingNumbers = cv2.imread(\"../ramq.jpg\")\n",
    "\n",
    "imgGray = cv2.cvtColor(imgTestingNumbers, cv2.COLOR_BGR2GRAY)\n",
    "imgBlurred = cv2.GaussianBlur(imgGray, (5,5), 0)\n",
    "\n",
    "# Same threshold parameters as the training\n",
    "imgThresh = cv2.adaptiveThreshold(imgBlurred, 255, cv2.ADAPTIVE_THRESH_GAUSSIAN_C, cv2.THRESH_BINARY_INV, 11, 2)\n",
    "\n",
    "imgContours, npaContours, npaHierarchy = cv2.findContours(imgThresh.copy(), cv2.RETR_EXTERNAL, cv2.CHAIN_APPROX_SIMPLE)\n",
    "\n",
    "# Wrap all of the contours in helper class\n",
    "allContoursWithData = [ContourWithData(contour) for contour in npaContours]\n",
    "\n",
    "# Get the list of \"valid\" contours and return them sorted by X coordinate\n",
    "validContoursWithData = sorted((contour for contour in allContoursWithData if contour.isValid()), \n",
    "                                key=operator.attrgetter(\"rectX\"))\n",
    "\n",
    "# declare final string, this will have the final number sequence by the end of the program\n",
    "finalString = []\n",
    "\n",
    "for contourWithData in validContoursWithData:\n",
    "    # draw a green rect around the current char\n",
    "    cv2.rectangle(imgTestingNumbers,\n",
    "                  (contourWithData.rectX, contourWithData.rectY),\n",
    "                  (contourWithData.rectX + contourWithData.rectWidth, \n",
    "                   contourWithData.rectY + contourWithData.rectHeight),      # lower right corner\n",
    "                  (0, 255, 0),              # green\n",
    "                  2)                        # thickness\n",
    "\n",
    "    # crop char out of threshold image\n",
    "    imgROI = imgThresh[contourWithData.rectY : contourWithData.rectY + contourWithData.rectHeight,\n",
    "                       contourWithData.rectX : contourWithData.rectX + contourWithData.rectWidth]\n",
    "        \n",
    "    # resize image, this will be more consistent for recognition and storage\n",
    "    imgROIResized = cv2.resize(imgROI, (RESIZED_IMAGE_WIDTH, RESIZED_IMAGE_HEIGHT))\n",
    "    # flatten image into 1d numpy array\n",
    "    npaROIResized = imgROIResized.reshape((1, RESIZED_IMAGE_WIDTH * RESIZED_IMAGE_HEIGHT))      \n",
    "    # convert from 1d numpy array of ints to 1d numpy array of floats\n",
    "    npaROIResized = np.float32(npaROIResized)       \n",
    "    #  call KNN function find_nearest\n",
    "    retval, npaResults, neigh_resp, dists = kNearest.findNearest(npaROIResized, k = 1)\n",
    "    # get character from results (float -> int -> chr)\n",
    "    strCurrentChar = chr(int(npaResults[0][0]))\n",
    "    \n",
    "    # append current char to full string\n",
    "    finalString.append(strCurrentChar)\n",
    "    \n",
    "    # Useful debug of the output, nice to see what it's matching\n",
    "    showimage(imgROI)\n",
    "    print \"GOT: \", strCurrentChar\n",
    "\n",
    "    \n",
    "print \"\\n\" + ''.join(finalString) + \"\\n\"                  # show the full string\n"
   ]
  },
  {
   "cell_type": "code",
   "execution_count": 47,
   "metadata": {
    "collapsed": false
   },
   "outputs": [
    {
     "data": {
      "image/png": "[encoded data removed]",
      "text/plain": [
       "<IPython.core.display.Image object>"
      ]
     },
     "metadata": {},
     "output_type": "display_data"
    }
   ],
   "source": [
    "showimage(imgTestingNumbers)"
   ]
  },
  {
   "cell_type": "code",
   "execution_count": null,
   "metadata": {
    "collapsed": true
   },
   "outputs": [],
   "source": []
  }
 ],
 "metadata": {
  "kernelspec": {
   "display_name": "Python 2",
   "language": "python",
   "name": "python2"
  },
  "language_info": {
   "codemirror_mode": {
    "name": "ipython",
    "version": 2
   },
   "file_extension": ".py",
   "mimetype": "text/x-python",
   "name": "python",
   "nbconvert_exporter": "python",
   "pygments_lexer": "ipython2",
   "version": "2.7.12"
  }
 },
 "nbformat": 4,
 "nbformat_minor": 1
}
